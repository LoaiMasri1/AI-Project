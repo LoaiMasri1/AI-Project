{
 "cells": [
  {
   "cell_type": "code",
   "execution_count": 1,
   "metadata": {},
   "outputs": [],
   "source": [
    "import pandas as pd\n",
    "\n",
    "file_name=[\n",
    "    '01','02','03','04','05','06','07','08','09','10',\n",
    "    '11','12','13','14','15','16','17','18','19','20',\n",
    "    '21','22','23','24','25','26','27','28','29','30',\n",
    "    '31','32','33','34','35','36','37','38','39','40',\n",
    "    '41','42','43','44','45','46','47','48','49','50',\n",
    "    '51','52','53','54','55','56','57','58','59','60']\n",
    "\n",
    "data=[]\n",
    "\n",
    "for i in range(len(file_name)):\n",
    "    data.append(pd.read_csv('../data/'+ file_name[i] +'_tracks.csv'))\n",
    "\n",
    "# Standard deviation of speed\n",
    "\n",
    "# Create Pull Request\n"
   ]
  },
  {
   "cell_type": "code",
   "execution_count": 46,
   "metadata": {},
   "outputs": [
    {
     "name": "stdout",
     "output_type": "stream",
     "text": [
      "0               NaN\n",
      "1               NaN\n",
      "2               NaN\n",
      "3               NaN\n",
      "4               NaN\n",
      "            ...    \n",
      "311138    32.759997\n",
      "311139    32.768660\n",
      "311140    32.777322\n",
      "311141    32.788872\n",
      "311142    32.797535\n",
      "Name: speed_std, Length: 311143, dtype: float64\n"
     ]
    }
   ],
   "source": [
    "# add standard deviation and add into the dataframe as a new column\n",
    "import numpy as np\n",
    "for i in range(len(file_name)):\n",
    "    speed_sum=(data[i]['dhw']/data[i]['thw']).sum()\n",
    "    speed_len=len(data[i]['dhw'])\n",
    "    data[i]['speed_std']=np.sqrt(((data[i]['dhw']/data[i]['thw'])**2)-speed_sum/speed_len)\n",
    "\n",
    "print(data[14]['speed_std'])\n",
    "\n",
    "# DV1 \n"
   ]
  }
 ],
 "metadata": {
  "interpreter": {
   "hash": "8b169f742e32b0063ef2a0099149646c19a8856d04e6afc31a96deeeb9e8a4ba"
  },
  "kernelspec": {
   "display_name": "Python 3.9.7 ('base')",
   "language": "python",
   "name": "python3"
  },
  "language_info": {
   "codemirror_mode": {
    "name": "ipython",
    "version": 3
   },
   "file_extension": ".py",
   "mimetype": "text/x-python",
   "name": "python",
   "nbconvert_exporter": "python",
   "pygments_lexer": "ipython3",
   "version": "3.9.7"
  },
  "orig_nbformat": 4
 },
 "nbformat": 4,
 "nbformat_minor": 2
}
