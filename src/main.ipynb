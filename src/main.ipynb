{
 "cells": [
  {
   "cell_type": "code",
   "execution_count": 2,
   "metadata": {},
   "outputs": [],
   "source": [
    "import pandas as pd\n",
    "\n",
    "file_name=[\n",
    "    '01','02','03','04','05','06','07','08','09','10',\n",
    "    '11','12','13','14','15','16','17','18','19','20',\n",
    "    '21','22','23','24','25','26','27','28','29','30',\n",
    "    '31','32','33','34','35','36','37','38','39','40',\n",
    "    '41','42','43','44','45','46','47','48','49','50',\n",
    "    '51','52','53','54','55','56','57','58','59','60']\n",
    "\n",
    "data=[]\n",
    "\n",
    "for i in range(len(file_name)):\n",
    "    data.append(pd.read_csv('../data/'+ file_name[i] +'_tracks.csv'))\n",
    "\n",
    "# Standard deviation of speed\n",
    "\n",
    "# Create Pull Request\n"
   ]
  },
  {
   "cell_type": "code",
   "execution_count": null,
   "metadata": {},
   "outputs": [],
   "source": [
    "# Standard deviation of speed for each day using formula distance/time\n",
    "\n",
    "# make function to calculate standard deviation of speed for each day\n",
    "\n",
    "def speed_list(data):\n",
    "    speed_list=[]\n",
    "    for i in range(len(data)):\n",
    "        speed_list.append(data[i]['distance_m']/data[i]['time_s'])\n",
    "    return speed_list\n",
    "    \n",
    "# Standard deviation of speed for each day\n",
    "\n",
    "data_speed= speed_list(data)\n",
    "speed_sum=data_speed.sum()\n",
    "\n",
    "\n",
    "# Standard deviation of speed for each day\n",
    "\n",
    "def standard_deviation(data_speed):\n",
    "    standard_deviation=[]\n",
    "    for i in range(len(data_speed)):\n",
    "        std=((data_speed[i]-speed_sum)/len(data_speed)).pow(2)\n",
    "        standard_deviation.append(std.sqrt())\n",
    "    return standard_deviation\n",
    " \n",
    "standard_deviation=[]\n",
    "\n",
    "standard_deviation=standard_deviation(data_speed)\n",
    "\n",
    "print(standard_deviation,' ',len(standard_deviation))\n",
    "\n",
    "print(standard_deviation)\n"
   ]
  }
 ],
 "metadata": {
  "interpreter": {
   "hash": "8b169f742e32b0063ef2a0099149646c19a8856d04e6afc31a96deeeb9e8a4ba"
  },
  "kernelspec": {
   "display_name": "Python 3.9.7 ('base')",
   "language": "python",
   "name": "python3"
  },
  "language_info": {
   "codemirror_mode": {
    "name": "ipython",
    "version": 3
   },
   "file_extension": ".py",
   "mimetype": "text/x-python",
   "name": "python",
   "nbconvert_exporter": "python",
   "pygments_lexer": "ipython3",
   "version": "3.9.7"
  },
  "orig_nbformat": 4
 },
 "nbformat": 4,
 "nbformat_minor": 2
}
