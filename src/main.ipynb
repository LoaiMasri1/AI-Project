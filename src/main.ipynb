{
 "cells": [
  {
   "cell_type": "code",
   "execution_count": null,
   "metadata": {},
   "outputs": [],
   "source": [
    "import pandas as pd\n",
    "\n",
    "file_name=['01','02','03','04','06','08','14','39']\n",
    "data=[]\n",
    "\n",
    "for i in range(len(file_name)):\n",
    "    data.append(pd.read_csv('../data/'+file_name[i]+'_tracks.csv'))\n",
    "\n",
    "\n",
    "print(data[2].head())\n"
   ]
  }
 ],
 "metadata": {
  "interpreter": {
   "hash": "8b169f742e32b0063ef2a0099149646c19a8856d04e6afc31a96deeeb9e8a4ba"
  },
  "kernelspec": {
   "display_name": "Python 3.9.7 ('base')",
   "language": "python",
   "name": "python3"
  },
  "language_info": {
   "codemirror_mode": {
    "name": "ipython",
    "version": 3
   },
   "file_extension": ".py",
   "mimetype": "text/x-python",
   "name": "python",
   "nbconvert_exporter": "python",
   "pygments_lexer": "ipython3",
   "version": "3.9.7"
  },
  "orig_nbformat": 4
 },
 "nbformat": 4,
 "nbformat_minor": 2
}
