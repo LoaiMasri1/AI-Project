{
 "cells": [
  {
   "cell_type": "code",
   "execution_count": null,
   "metadata": {},
   "outputs": [],
   "source": [
    "import pandas as pd\n",
    "\n",
    "file_name=['01','02','03','04','05','06','07','08','09','10',\n",
    "           '11','12','13','14','15','16','17','18','19','20',\n",
    "           '21','22','23','24','25','26','27','28','29','30',\n",
    "           '31','32','33','34','35','36','37','38','39','40',\n",
    "           '41','42','43','44','45','46','47','48','49','50',\n",
    "           '51','52','53','54','55','56','57','58','59','60']\n",
    "data=[]\n",
    "\n",
    "for i in range(len(file_name)):\n",
    "    data.append(pd.read_csv('../data/'+file_name[i]+'_tracks.csv'))"
   ]
  },
  {
   "cell_type": "code",
   "execution_count": null,
   "metadata": {},
   "outputs": [],
   "source": [
    "#DV5\n",
    "import numpy as np\n",
    "for i in range(len(file_name)):\n",
    "    length = len(data[i]['xAcceleration'][data[i]['xAcceleration']<0])\n",
    "    dlong = data[i]['xAcceleration'][data[i]['xAcceleration']<0]\n",
    "    dlong_mean_4_each_driver = data[i]['xAcceleration'][data[i]['xAcceleration']<0].groupby([data[i]['id']], dropna = False).mean()\n",
    "    dlong_mean = data[i]['xAcceleration'][data[i]['xAcceleration']<0].mean()\n",
    "    data[i]['DV5'] = np.sqrt((dlong - dlong_mean_4_each_driver)**2/length)/dlong_mean\n",
    "    print(dlong)"
   ]
  },
  {
   "cell_type": "code",
   "execution_count": null,
   "metadata": {},
   "outputs": [],
   "source": [
    "for i in range(len(file_name)):\n",
    "    length = len(data[i]['xAcceleration'])\n",
    "    Along = data[i]['xAcceleration']\n",
    "    Along_mean = data[i]['xAcceleration'].mean()\n",
    "    data[i]['DV7'] = (Along - Along_mean).abs()/length \n",
    "    print(data[i]['DV7'])"
   ]
  }
 ],
 "metadata": {
  "interpreter": {
   "hash": "8b169f742e32b0063ef2a0099149646c19a8856d04e6afc31a96deeeb9e8a4ba"
  },
  "kernelspec": {
   "display_name": "Python 3.9.7 ('base')",
   "language": "python",
   "name": "python3"
  },
  "language_info": {
   "codemirror_mode": {
    "name": "ipython",
    "version": 3
   },
   "file_extension": ".py",
   "mimetype": "text/x-python",
   "name": "python",
   "nbconvert_exporter": "python",
   "pygments_lexer": "ipython3",
   "version": "3.9.7"
  },
  "orig_nbformat": 4
 },
 "nbformat": 4,
 "nbformat_minor": 2
}
