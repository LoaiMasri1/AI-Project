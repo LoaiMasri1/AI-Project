{
 "cells": [
  {
   "cell_type": "code",
   "execution_count": 1,
   "metadata": {},
   "outputs": [],
   "source": [
    "import pandas as pd\n",
    "\n",
    "file_name=[\n",
    "    '01','02','03','04','05','06','07','08','09','10',\n",
    "    '11','12','13','14','15','16','17','18','19','20',\n",
    "    '21','22','23','24','25','26','27','28','29','30',\n",
    "    '31','32','33','34','35','36','37','38','39','40',\n",
    "    '41','42','43','44','45','46','47','48','49','50',\n",
    "    '51','52','53','54','55','56','57','58','59','60']\n",
    "\n",
    "data=[]\n",
    "\n",
    "for i in range(len(file_name)):\n",
    "    data.append(pd.read_csv('../data/'+ file_name[i] +'_tracks.csv'))\n",
    "\n",
    "# Standard deviation of speed\n",
    "\n",
    "# Create Pull Request\n"
   ]
  },
  {
   "cell_type": "code",
   "execution_count": 2,
   "metadata": {},
   "outputs": [
    {
     "name": "stdout",
     "output_type": "stream",
     "text": [
      "        frame    id       x      y  width  height  xVelocity  yVelocity  \\\n",
      "0           1     1  362.26  21.68   4.85    2.12      40.85       0.00   \n",
      "1           2     1  363.73  21.68   4.85    2.12      40.87       0.00   \n",
      "2           3     1  365.27  21.68   4.85    2.12      40.88       0.00   \n",
      "3           4     1  366.83  21.68   4.85    2.12      40.89       0.00   \n",
      "4           5     1  368.42  21.68   4.85    2.12      40.90       0.01   \n",
      "...       ...   ...     ...    ...    ...     ...        ...        ...   \n",
      "348745  22535  1047  366.97  12.54   6.37    3.13     -35.63       0.19   \n",
      "348746  22536  1047  365.55  12.55   6.37    3.13     -35.66       0.20   \n",
      "348747  22537  1047  364.12  12.56   6.37    3.13     -35.69       0.20   \n",
      "348748  22538  1047  362.69  12.57   6.37    3.13     -35.72       0.21   \n",
      "348749  22539  1047  361.26  12.58   6.37    3.13     -35.75       0.21   \n",
      "\n",
      "        xAcceleration  yAcceleration  ...  precedingXVelocity  precedingId  \\\n",
      "0                0.30           0.00  ...                0.00            0   \n",
      "1                0.30           0.00  ...                0.00            0   \n",
      "2                0.31           0.00  ...                0.00            0   \n",
      "3                0.32           0.00  ...                0.00            0   \n",
      "4                0.32           0.00  ...                0.00            0   \n",
      "...               ...            ...  ...                 ...          ...   \n",
      "348745          -0.74           0.11  ...              -34.18         1045   \n",
      "348746          -0.74           0.11  ...              -34.19         1045   \n",
      "348747          -0.74           0.11  ...              -34.19         1045   \n",
      "348748          -0.74           0.11  ...              -34.20         1045   \n",
      "348749          -0.74           0.11  ...              -34.21         1045   \n",
      "\n",
      "        followingId  leftPrecedingId  leftAlongsideId  leftFollowingId  \\\n",
      "0                 3                0                0                0   \n",
      "1                14                0                0                0   \n",
      "2                14                0                0                0   \n",
      "3                14                0                0                0   \n",
      "4                14                0                0                0   \n",
      "...             ...              ...              ...              ...   \n",
      "348745            0                0                0                0   \n",
      "348746            0                0                0                0   \n",
      "348747            0                0                0                0   \n",
      "348748            0                0                0                0   \n",
      "348749            0                0                0                0   \n",
      "\n",
      "        rightPrecedingId  rightAlongsideId  rightFollowingId  laneId  \n",
      "0                      0                 0                 6       5  \n",
      "1                      0                 0                 6       5  \n",
      "2                      0                 0                 6       5  \n",
      "3                      0                 0                 6       5  \n",
      "4                      0                 0                 6       5  \n",
      "...                  ...               ...               ...     ...  \n",
      "348745              1039                 0                 0       3  \n",
      "348746              1039                 0                 0       3  \n",
      "348747              1039                 0                 0       3  \n",
      "348748              1039                 0                 0       3  \n",
      "348749              1039                 0                 0       3  \n",
      "\n",
      "[348750 rows x 25 columns]\n"
     ]
    }
   ],
   "source": [
    "print(data[0])"
   ]
  }
 ],
 "metadata": {
  "interpreter": {
   "hash": "8b169f742e32b0063ef2a0099149646c19a8856d04e6afc31a96deeeb9e8a4ba"
  },
  "kernelspec": {
   "display_name": "Python 3.9.7 ('base')",
   "language": "python",
   "name": "python3"
  },
  "language_info": {
   "codemirror_mode": {
    "name": "ipython",
    "version": 3
   },
   "file_extension": ".py",
   "mimetype": "text/x-python",
   "name": "python",
   "nbconvert_exporter": "python",
   "pygments_lexer": "ipython3",
   "version": "3.9.7"
  },
  "orig_nbformat": 4
 },
 "nbformat": 4,
 "nbformat_minor": 2
}
