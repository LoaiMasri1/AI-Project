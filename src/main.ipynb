{
 "cells": [
  {
   "cell_type": "code",
   "execution_count": null,
   "metadata": {},
   "outputs": [],
   "source": [
    "import pandas as pd\n",
    "\n",
    "file_name=[\n",
    "    '01','02','03','04','05','06','07','08','09','10',\n",
    "    '11','12','13','14','15','16','17','18','19','20',\n",
    "    '21','22','23','24','25','26','27','28','29','30',\n",
    "    '31','32','33','34','35','36','37','38','39','40',\n",
    "    '41','42','43','44','45','46','47','48','49','50',\n",
    "    '51','52','53','54','55','56','57','58','59','60']\n",
    "\n",
    "data=[]\n",
    "\n",
    "for i in range(len(file_name)):\n",
    "    data.append(pd.read_csv('../data/'+ file_name[i] +'_tracks.csv'))\n",
    "\n",
    "# Standard deviation of speed\n",
    "\n",
    "# Create Pull Request\n"
   ]
  },
  {
   "cell_type": "code",
   "execution_count": null,
   "metadata": {},
   "outputs": [],
   "source": [
    "# add standard deviation and add into the dataframe as a new column\n",
    "import numpy as np\n",
    "for i in range(len(file_name)):\n",
    "    speed_len=len(data[i]['xVelocity'])\n",
    "    data[i]['DV1']=np.sqrt((data[i]['xVelocity']-data[i]['xVelocity'].mean())**2/speed_len)\n",
    "\n",
    "print(data[0]['DV1'])\n",
    "\n",
    "# DV1 \n"
   ]
  },
  {
   "cell_type": "code",
   "execution_count": null,
   "metadata": {},
   "outputs": [],
   "source": [
    "# calculate Standard deviation of longitudinal deceleration or acceleration\n",
    "import numpy as np\n",
    "for i in range(len(file_name)):\n",
    "    long_acc=data[i]['xAcceleration'][data[i]['xAcceleration']>0] # longitudinal acceleration\n",
    "    long_len=len(long_acc)\n",
    "    data[i]['DV2']=np.sqrt((long_acc-long_acc.mean())**2/long_len)\n",
    "    \n",
    "print(data[40]['DV2'])"
   ]
  },
  {
   "cell_type": "code",
   "execution_count": null,
   "metadata": {},
   "outputs": [],
   "source": [
    "# calculate Mean absolute deviation of speed\n",
    "\n",
    "for i in range(len(file_name)):\n",
    "    speed_len=len(data[i]['xVelocity'])\n",
    "    data[i]['DV6']=np.abs((data[i]['xVelocity']-data[i]['xVelocity'].mean())**2)/speed_len\n",
    "\n",
    "print(data[0]['DV6'])"
   ]
  },
  {
   "cell_type": "code",
   "execution_count": null,
   "metadata": {},
   "outputs": [],
   "source": [
    "\n",
    "# import DV1 ,DV2 ,DV6 as new csv files \n",
    "\n",
    "\n",
    "for i in range(len(file_name)):\n",
    "    DV1=data[i]['DV1']\n",
    "    DV2=data[i]['DV2']\n",
    "    DV6=data[i]['DV6']\n",
    "    header=['DV1','DV2','DV6']\n",
    "    data[i].to_csv('../data_new/'+ file_name[i] +'_tracks_new.csv',index=False,columns=header)\n",
    "    "
   ]
  },
  {
   "cell_type": "code",
   "execution_count": null,
   "metadata": {},
   "outputs": [],
   "source": [
    "DV1=data[0][['DV1','DV2','DV6']].groupby([data[0]['id'],data[0]['DV1'],data[0]['DV2'],data[0]['DV6']],dropna=False).mean()\n",
    "new =pd.DataFrame(DV1).groupby(level=0).mean()\n",
    "new.fillna(0,inplace=True)\n",
    "#data[0][data[0]['id']==2]['DV6'].mean()\n",
    "\n",
    "new.to_csv('../data_new/new.csv')"
   ]
  }
 ],
 "metadata": {
  "interpreter": {
   "hash": "8b169f742e32b0063ef2a0099149646c19a8856d04e6afc31a96deeeb9e8a4ba"
  },
  "kernelspec": {
   "display_name": "Python 3.9.7 ('base')",
   "language": "python",
   "name": "python3"
  },
  "language_info": {
   "codemirror_mode": {
    "name": "ipython",
    "version": 3
   },
   "file_extension": ".py",
   "mimetype": "text/x-python",
   "name": "python",
   "nbconvert_exporter": "python",
   "pygments_lexer": "ipython3",
   "version": "3.9.7"
  },
  "orig_nbformat": 4
 },
 "nbformat": 4,
 "nbformat_minor": 2
}
